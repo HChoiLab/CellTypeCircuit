{
 "cells": [
  {
   "cell_type": "code",
   "execution_count": 1,
   "id": "9226ce82",
   "metadata": {},
   "outputs": [],
   "source": [
    "import matplotlib.pyplot as plt\n",
    "import pickle\n",
    "import numpy as np\n",
    "import matplotlib.patches as mpatches\n",
    "\n",
    "import sys\n",
    "# caution: path[0] is reserved for script path (or '' in REPL)\n",
    "sys.path.insert(1, 'code')\n",
    "from help_funcs import *\n",
    "\n",
    "import matplotlib\n",
    "\n",
    "matplotlib.rcParams.update({'font.size': 18})"
   ]
  },
  {
   "cell_type": "code",
   "execution_count": 31,
   "id": "8e5737bd",
   "metadata": {},
   "outputs": [],
   "source": [
    "sstcolor = (0.898,0.6314,0.0039)\n",
    "pvcolor = (0.0, 0.4039, 0.7059)"
   ]
  },
  {
   "cell_type": "code",
   "execution_count": 2,
   "id": "6d38bfcf",
   "metadata": {},
   "outputs": [],
   "source": [
    "import scipy.stats\n",
    "\n",
    "def periodic_distance(p1, p2, L=1.0):\n",
    "    \"\"\"\n",
    "    Calculates the periodic distance between two points on a 1x1 2-dimensional plane.\n",
    "\n",
    "    Parameters\n",
    "    ----------\n",
    "    p1 : numpy array\n",
    "        The first point, with shape (2,).\n",
    "    p2 : numpy array\n",
    "        The second point, with shape (2,).\n",
    "    L : float\n",
    "        The length of the periodic boundary, default value is 1.0.\n",
    "\n",
    "    Returns\n",
    "    -------\n",
    "    distance : float\n",
    "        The periodic distance between two points.\n",
    "    \"\"\"\n",
    "    delta = np.abs(p1 - p2)\n",
    "    delta = np.where(delta > L/2, L - delta, delta)\n",
    "    return np.sqrt(np.sum(delta**2))\n",
    "\n",
    "\n",
    "def getStimRateMeans(exc_spikes, exc_positions, rates=False, nsecs = 10, binlen = 100):\n",
    "    # store the control times and the chr2 stimulation times\n",
    "    control_times = []\n",
    "    chr_times = []\n",
    "    ii = 0\n",
    "    is_control = True\n",
    "    while True:\n",
    "        start_time = ii * 500 + 1000\n",
    "        stop_time = start_time + binlen\n",
    "        if stop_time > nsecs*1000: break\n",
    "        if is_control:\n",
    "            control_times.append(start_time)\n",
    "        else:\n",
    "            chr_times.append(start_time)   \n",
    "        ii += 1\n",
    "        if is_control:\n",
    "            is_control = False\n",
    "        else:\n",
    "            is_control = True        \n",
    "        \n",
    "    assert len(control_times) == len(chr_times)\n",
    "#     print(\"NTIMES:\", control_times, chr_times)\n",
    "    # compute the rates of the cells distal to the chr2 stimulus\n",
    "    control_spikes = []\n",
    "    chr_spikes = []\n",
    "    center_pos = np.array([0.5,0.5])\n",
    "    for ni in range(len(exc_positions)):\n",
    "        pos_x, pos_y = exc_positions[ni,:]\n",
    "        dist = np.sqrt((0.5-pos_x)**2 + (0.5-pos_y)**2)\n",
    "        if dist > 0.25:\n",
    "            continue\n",
    "        nspikes = 0\n",
    "        for tim in control_times:\n",
    "            aa = exc_spikes[ni] [exc_spikes[ni] > tim ]\n",
    "            aa = aa [aa < tim+binlen]\n",
    "            nspikes += len(aa)\n",
    "        control_spikes.append(nspikes)\n",
    "\n",
    "        nspikes = 0\n",
    "        for tim in chr_times:\n",
    "            aa = exc_spikes[ni] [exc_spikes[ni] > tim ]\n",
    "            aa = aa [aa < tim+binlen]\n",
    "            nspikes += len(aa)\n",
    "        chr_spikes.append(nspikes)\n",
    "    control_rates = np.divide(control_spikes,(binlen/1000)*len(control_times)) # convert from spike count to rate\n",
    "    chr_rates = np.divide(chr_spikes,(binlen/1000)*len(chr_times))\n",
    "    ctrl_mean = np.mean(control_rates)\n",
    "    chr2_mean = np.mean(chr_rates)\n",
    "    \n",
    "    ctrl_err = scipy.stats.sem(control_rates)\n",
    "    chr2_err = scipy.stats.sem(chr_rates)\n",
    "    \n",
    "    if rates:\n",
    "        return [ctrl_mean, chr2_mean, ctrl_err, chr2_err, control_rates, chr_rates]\n",
    "    else:\n",
    "        return [ctrl_mean, chr2_mean, ctrl_err, chr2_err]\n",
    "    \n",
    "\n",
    "def getSpontMedians(all_spikes, start_time = 1000., stop_time = 10000.):\n",
    "    \n",
    "    exc_spikes = all_spikes[:8000]\n",
    "    pv_spikes = all_spikes[8000:9000]\n",
    "    sst_spikes = all_spikes[9000:]\n",
    "    \n",
    "    tlen = (stop_time - start_time)/1000.\n",
    "    \n",
    "    exc_nspikes = []\n",
    "    for spikes in exc_spikes:\n",
    "        aa = spikes[spikes > start_time ]\n",
    "        aa = aa [aa < stop_time]\n",
    "        exc_nspikes.append(len(aa)/tlen)\n",
    "        \n",
    "    pv_nspikes = []\n",
    "    for spikes in pv_spikes:\n",
    "        aa = spikes[spikes > start_time ]\n",
    "        aa = aa [aa < stop_time]\n",
    "        pv_nspikes.append(len(aa)/tlen)\n",
    "        \n",
    "    sst_nspikes = []\n",
    "    for spikes in sst_spikes:\n",
    "        aa = spikes[spikes > start_time ]\n",
    "        aa = aa [aa < stop_time]\n",
    "        sst_nspikes.append(len(aa)/tlen)\n",
    "        \n",
    "    return np.median(exc_nspikes), np.median(pv_nspikes), np.median(sst_nspikes)"
   ]
  },
  {
   "cell_type": "code",
   "execution_count": 3,
   "id": "30075d66",
   "metadata": {},
   "outputs": [],
   "source": [
    "import numpy as np\n",
    "from scipy.optimize import curve_fit\n",
    "\n",
    "# naka-rushton = (m+((Rm.*(x.^n))./((x.^n) + (c50.^n)))))\n",
    "# parameter = [Rm, n, c50, m]\n",
    "# p0 = [150, 5, 0.1, 50]\n",
    "# Upper = [250, 30, 0.26, 200]\n",
    "# Lower = [0, 0, 0.04, 0]\n",
    "p0 = [50, 150, 5, 0.1] \n",
    "Upper = [200, 250, 15, 0.2]\n",
    "# Lower = [0, 0, 0, 0.04]\n",
    "Lower = [0, 0, 0, 0.05]\n",
    "bounds = (Lower, Upper)\n",
    "\n",
    "def naka_rushton(x, m, C, n, k):\n",
    "    return m + C * (x**n) / (x**n + k**n)\n",
    "\n",
    "def fit_naka_rushton(x, y, sigma=None, p0 = p0, bounds=bounds):\n",
    "    params, cov = curve_fit(naka_rushton, x, y, bounds=bounds, sigma=sigma, p0=p0, maxfev = 1000000)\n",
    "    return params, cov\n"
   ]
  },
  {
   "cell_type": "code",
   "execution_count": 4,
   "id": "303649c9",
   "metadata": {},
   "outputs": [],
   "source": [
    "simname = 'short_nl'\n",
    "contrasts = np.array([0.02, 0.05, 0.1, 0.18, 0.33])\n",
    "# contrasts = np.array([0.02, 0.05, 0.1, 0.18])\n",
    "ignor=0\n",
    "binlen = 60\n",
    "\n",
    "def get_slope(m,C,n,k):\n",
    "    cvals = np.arange(0.02,0.33,0.01)\n",
    "    yvals = naka_rushton(cvals, m, C, n, k)\n",
    "    \n",
    "    slopes = []\n",
    "    for i in range(1, len(cvals)):\n",
    "        slopes.append((yvals[i]-yvals[i-1])/0.01)\n",
    "    maxslope = np.max(slopes)\n",
    "    return maxslope, cvals[slopes.index(maxslope)]\n",
    "\n",
    "def get_slope_change(simname, seed):\n",
    "\n",
    "    ctrl_pv_curve = [[] for i in range(4)]\n",
    "    stim_pv_curve = [[] for i in range(4)]\n",
    "    ctrl_sst_curve = [[] for i in range(4)]\n",
    "    stim_sst_curve = [[] for i in range(4)]\n",
    "\n",
    "    ctrl_pv_curve_e = [[] for i in range(4)]\n",
    "    stim_pv_curve_e = [[] for i in range(4)]\n",
    "    ctrl_sst_curve_e = [[] for i in range(4)]\n",
    "    stim_sst_curve_e = [[] for i in range(4)]\n",
    "\n",
    "    \n",
    "    folder = 'data/%s/results_%s/'%(simname, seed)\n",
    "    not_all_found=False\n",
    "    for cont in contrasts:\n",
    "        with open(folder + 'PV_%s_spikes.pickle'%cont, 'rb') as f:\n",
    "            all_spikes = pickle.load(f)\n",
    "        with open(folder + 'PV_%s_positions.pickle'%cont, 'rb') as f:\n",
    "            all_positions = pickle.load(f)\n",
    "\n",
    "\n",
    "        ctrlpv_E_mean, stimpv_E_mean, ctrlpv_E_err, stimpv_E_err = getStimRateMeans(all_spikes[:8000], all_positions[:8000], binlen=binlen)\n",
    "        ctrlpv_P_mean, stimpv_P_mean, ctrlpv_P_err, stimpv_P_err = getStimRateMeans(all_spikes[8000:9000], all_positions[8000:9000], binlen=binlen)\n",
    "        ctrlpv_S_mean, stimpv_S_mean, ctrlpv_S_err, stimpv_S_err = getStimRateMeans(all_spikes[9000:10000], all_positions[9000:10000], binlen=binlen)\n",
    "        ctrlpv_A_mean, stimpv_A_mean, ctrlpv_A_err, stimpv_A_err = getStimRateMeans(all_spikes, all_positions, binlen=binlen)\n",
    "\n",
    "        ctrl_pv_curve[0].append(ctrlpv_E_mean)\n",
    "        ctrl_pv_curve[1].append(ctrlpv_P_mean)\n",
    "        ctrl_pv_curve[2].append(ctrlpv_S_mean)\n",
    "        ctrl_pv_curve[3].append(ctrlpv_A_mean)\n",
    "        ctrl_pv_curve_e[0].append(ctrlpv_E_err)\n",
    "        ctrl_pv_curve_e[1].append(ctrlpv_P_err)\n",
    "        ctrl_pv_curve_e[2].append(ctrlpv_S_err)\n",
    "        ctrl_pv_curve_e[3].append(ctrlpv_A_err)\n",
    "\n",
    "        stim_pv_curve[0].append(stimpv_E_mean)\n",
    "        stim_pv_curve[1].append(stimpv_P_mean)\n",
    "        stim_pv_curve[2].append(stimpv_S_mean)\n",
    "        stim_pv_curve[3].append(stimpv_A_mean)\n",
    "        stim_pv_curve_e[0].append(stimpv_E_err)\n",
    "        stim_pv_curve_e[1].append(stimpv_P_err)\n",
    "        stim_pv_curve_e[2].append(stimpv_S_err)\n",
    "        stim_pv_curve_e[3].append(stimpv_A_err)\n",
    "\n",
    "\n",
    "        with open(folder + 'SOM_%s_spikes.pickle'%cont, 'rb') as f:\n",
    "            all_spikes = pickle.load(f)\n",
    "        with open(folder + 'SOM_%s_positions.pickle'%cont, 'rb') as f:\n",
    "            all_positions = pickle.load(f)\n",
    "\n",
    "\n",
    "        ctrlsst_E_mean, stimsst_E_mean, ctrlsst_E_err, stimsst_E_err = getStimRateMeans(all_spikes[:8000], all_positions[:8000], binlen= binlen)\n",
    "        ctrlsst_P_mean, stimsst_P_mean, ctrlsst_P_err, stimsst_P_err = getStimRateMeans(all_spikes[8000:9000], all_positions[8000:9000], binlen= binlen)\n",
    "        ctrlsst_S_mean, stimsst_S_mean, ctrlsst_S_err, stimsst_S_err = getStimRateMeans(all_spikes[9000:10000], all_positions[9000:10000], binlen= binlen)\n",
    "        ctrlsst_A_mean, stimsst_A_mean, ctrlsst_A_err, stimsst_A_err = getStimRateMeans(all_spikes, all_positions, binlen= binlen)\n",
    "\n",
    "\n",
    "        ctrl_sst_curve[0].append(ctrlsst_E_mean)\n",
    "        ctrl_sst_curve[1].append(ctrlsst_P_mean)\n",
    "        ctrl_sst_curve[2].append(ctrlsst_S_mean)\n",
    "        ctrl_sst_curve[3].append(ctrlsst_A_mean)\n",
    "        ctrl_sst_curve_e[0].append(ctrlsst_E_err)\n",
    "        ctrl_sst_curve_e[1].append(ctrlsst_P_err)\n",
    "        ctrl_sst_curve_e[2].append(ctrlsst_S_err)\n",
    "        ctrl_sst_curve_e[3].append(ctrlsst_A_err)\n",
    "\n",
    "        stim_sst_curve[0].append(stimsst_E_mean)\n",
    "        stim_sst_curve[1].append(stimsst_P_mean)\n",
    "        stim_sst_curve[2].append(stimsst_S_mean)\n",
    "        stim_sst_curve[3].append(stimsst_A_mean)\n",
    "        stim_sst_curve_e[0].append(stimsst_E_err)\n",
    "        stim_sst_curve_e[1].append(stimsst_P_err)\n",
    "        stim_sst_curve_e[2].append(stimsst_S_err)\n",
    "        stim_sst_curve_e[3].append(stimsst_A_err)\n",
    " \n",
    "    params, cov = fit_naka_rushton(contrasts[ignor:], ctrl_pv_curve[3][ignor:], sigma=ctrl_pv_curve_e[3][ignor:])\n",
    "    m_cp, C_cp, n_cp, k_cp = params\n",
    "    m_cp_err, C_cp_err, n_cp_err, k_cp_err = np.sqrt(np.diag(cov))\n",
    "#     slope_cp = C_cp*n_cp/k_cp/4.0\n",
    "    slope_cp, _ = get_slope(m_cp, C_cp, n_cp, k_cp)\n",
    "    \n",
    "    params, cov = fit_naka_rushton(contrasts[ignor:], stim_pv_curve[3][ignor:], sigma=stim_pv_curve_e[3][ignor:])\n",
    "    m_sp, C_sp, n_sp, k_sp = params\n",
    "    m_sp_err, C_sp_err, n_sp_err, k_sp_err = np.sqrt(np.diag(cov))\n",
    "#     slope_sp = C_sp*n_sp/k_sp/4.0\n",
    "    slope_sp, _ = get_slope(m_sp, C_sp, n_sp, k_sp)\n",
    "    \n",
    "    params, cov = fit_naka_rushton(contrasts[ignor:], ctrl_sst_curve[3][ignor:], sigma=ctrl_sst_curve_e[3][ignor:])\n",
    "    m_cs, C_cs, n_cs, k_cs = params\n",
    "    m_cs_err, C_cs_err, n_cs_err, k_cs_err = np.sqrt(np.diag(cov))\n",
    "#     slope_cs = C_cs*n_cs/k_cs/4.0\n",
    "    slope_cs, _ = get_slope(m_cs, C_cs, n_cs, k_cs)\n",
    "    \n",
    "    params, cov = fit_naka_rushton(contrasts[ignor:], stim_sst_curve[3][ignor:], sigma=stim_sst_curve_e[3][ignor:])\n",
    "    m_ss, C_ss, n_ss, k_ss = params\n",
    "    m_ss_err, C_ss_err, n_ss_err, k_ss_err = np.sqrt(np.diag(cov))\n",
    "#     slope_ss = C_ss*n_ss/k_ss/4.0\n",
    "    slope_ss, _ = get_slope(m_ss, C_ss, n_ss, k_ss)\n",
    "    \n",
    "    \n",
    "    change_pv = ( slope_sp - slope_cp ) / (slope_cp + slope_sp)\n",
    "    change_sst = ( slope_ss - slope_cs ) / (slope_cs + slope_ss)\n",
    "    \n",
    "    return change_pv, change_sst"
   ]
  },
  {
   "cell_type": "code",
   "execution_count": 5,
   "id": "5dfcb522",
   "metadata": {},
   "outputs": [
    {
     "data": {
      "text/plain": [
       "(0.07660713143958944, -0.09298967220531257)"
      ]
     },
     "execution_count": 5,
     "metadata": {},
     "output_type": "execute_result"
    }
   ],
   "source": [
    "get_slope_change('nl3t', 2)"
   ]
  },
  {
   "cell_type": "code",
   "execution_count": 6,
   "id": "6b6701e7",
   "metadata": {},
   "outputs": [],
   "source": [
    "long_names = ['base3t', 'vnl_0.0025', 'vnl_0.005', 'vnl_0.0075', 'vnl_0.01', 'vnl_0.0125', 'vnl_0.015', 'vnl_0.0175', 'nl3t' ]\n",
    "short_names = [ 'vnl_0.2_0.0001','vnl_0.2_0.0025', 'vnl_0.2_0.005', 'vnl_0.2_0.0075', 'vnl_0.2_0.01', 'vnl_0.2_0.0125', 'vnl_0.2_0.015', 'vnl_0.2_0.0175', 'short_nl' ]"
   ]
  },
  {
   "cell_type": "code",
   "execution_count": 30,
   "id": "e47a5519",
   "metadata": {
    "scrolled": true
   },
   "outputs": [
    {
     "name": "stdout",
     "output_type": "stream",
     "text": [
      "seed 1 -0.1329044764095078 -0.17352226813285185\n",
      "seed 2 0.052803753316378474 -0.08558180158802721\n",
      "seed 3 0.16252604965127898 -0.4153235862287422\n",
      "seed 4 0.019173861290345207 -0.3844880610529927\n",
      "seed 5 -0.11195355583447798 -0.18964992228814007\n",
      "seed 6 -0.35296692021759196 -0.15814871491100885\n",
      "seed 7 -0.02395669732308429 -0.10453548575253498\n",
      "seed 8 -0.21061577588571448 0.21039418537109797\n",
      "seed 9 0.07610850779158088 0.03140075044253401\n",
      "0 9 9\n",
      "seed 1 0.02240516779018828 0.03559837622389919\n",
      "seed 2 -0.01633585837816525 -0.086854064612059\n",
      "seed 3 0.08994632471268198 -0.03453326241772845\n",
      "seed 4 0.005872104933560056 -0.11206938512832866\n",
      "seed 5 0.10704486263552952 0.1503793708411105\n",
      "seed 6 0.005007602890450224 -0.11713297474430542\n",
      "seed 7 0.24602838713196123 -0.02257262976295209\n",
      "seed 8 0.21605937302930153 0.08843702530972024\n",
      "seed 9 0.03552956479674964 -0.05708775290951399\n",
      "1 9 9\n",
      "seed 1 0.13668992012605666 0.02758311157061985\n",
      "seed 2 0.0749762732624565 -0.0857143752604437\n",
      "seed 3 0.09789969233084521 -0.01823499170470177\n",
      "seed 4 0.10763311240182984 -0.012588859017564086\n",
      "seed 5 0.11860737069008065 0.02093715927885166\n",
      "seed 6 0.058162303278940904 -0.129231036284004\n",
      "seed 7 0.3122435493428747 0.04956451917712225\n",
      "seed 8 0.19467314798100827 0.07523484114901745\n",
      "seed 9 0.08130521621467107 -0.09937563302187125\n",
      "2 9 9\n",
      "seed 1 0.06321415455923013 -0.05327264605735884\n",
      "seed 2 -0.005852891468062456 -0.06998431176127334\n",
      "seed 3 0.0986233195288724 -0.034550089577472215\n",
      "seed 4 -0.02700958417437499 -0.08221826485670441\n",
      "seed 5 0.12293147988373536 0.039704121658384446\n",
      "seed 6 0.06020303922991467 -0.13230872083457915\n",
      "seed 7 0.21916575631570895 0.04072008563539035\n",
      "seed 8 0.16795854347021585 0.09151458347007774\n",
      "seed 9 0.034296387527987006 -0.08423857010316486\n",
      "3 9 9\n",
      "seed 1 0.11522515579345731 -0.01097704249175447\n",
      "seed 2 0.03946548035999838 -0.08257097133113363\n",
      "seed 3 0.09803157139846848 -0.09668727507552155\n",
      "seed 4 0.015183025100761346 -0.002157628468054089\n",
      "seed 5 0.15652546007150298 0.07311319747056265\n",
      "seed 6 0.03171851478984153 -0.06291562454513507\n",
      "seed 7 0.24343294503838772 0.04485686022602009\n",
      "seed 8 0.19717834727221784 0.054914842234007874\n",
      "seed 9 0.06366288369354257 -0.11307061854454833\n",
      "4 9 9\n",
      "seed 1 0.1591730759469214 -0.049892008173785383\n",
      "seed 2 0.07117960754180222 -0.09705277507000144\n",
      "seed 3 0.1477881258147137 -0.08484137951089227\n",
      "seed 4 0.07984701623830773 -0.11040186631482508\n",
      "seed 5 0.16193104151019136 0.047883253393634584\n",
      "seed 6 0.10244842769207471 -0.1348705456804541\n",
      "seed 7 0.21698221134352808 0.05186070262976587\n",
      "seed 8 0.20982949247689542 0.05472139152326737\n",
      "seed 9 0.06747539824951754 -0.11195308689732954\n",
      "5 9 9\n",
      "seed 1 0.1410217049648094 -0.10343145865937049\n",
      "seed 2 0.09527883204683156 -0.10979381440340774\n",
      "seed 3 0.10818434722659798 -0.09891011539278878\n",
      "seed 4 -0.021765973487458044 -0.28713435619331656\n",
      "seed 5 0.10968711233370096 0.2246253764103996\n",
      "seed 6 0.05047378962212331 -0.10210264010534814\n",
      "seed 7 0.15499232581209707 -0.26382984144330346\n",
      "seed 8 0.22055939706694927 0.09416728678990285\n",
      "seed 9 0.07168590833867947 -0.11150599852309027\n",
      "6 9 9\n",
      "seed 1 0.12842528317910756 0.020951237182863833\n",
      "seed 2 0.06455663332413415 -0.06605775293351297\n",
      "seed 3 0.11062045991106002 -0.08525960982414717\n",
      "seed 4 0.10014865349050671 -0.16881820630861596\n",
      "seed 5 0.15159787035689326 0.039516855985552726\n",
      "seed 6 0.0637027228599929 -0.08846107733458208\n",
      "seed 7 0.1538629072260671 -0.11644788230861573\n",
      "seed 8 0.2536068352460465 0.06224539954066319\n",
      "seed 9 0.0876823512231952 -0.10898697961693761\n",
      "7 9 9\n",
      "seed 1 0.21682469260963258 -0.004441239857488716\n",
      "seed 2 0.07660713143958944 -0.09298967220531257\n",
      "seed 3 0.14281932231773245 -0.1067459355154556\n",
      "seed 4 0.04892981432083732 -0.16189253669153433\n",
      "seed 5 0.14128169511662567 0.14098401541371497\n",
      "seed 6 0.06819310868287133 -0.05708095138492296\n",
      "seed 7 0.2141081805209678 -0.003437583974267489\n",
      "seed 8 0.24433125549707876 0.0920395420108681\n",
      "seed 9 0.028043244952997884 -0.1470943984635327\n",
      "8 9 9\n"
     ]
    }
   ],
   "source": [
    "pv_long = []\n",
    "sst_long = []\n",
    "pv_long_errs = []\n",
    "sst_long_errs = []\n",
    "for ai in range(len(long_names)):\n",
    "    pv_changes, sst_changes = [], []\n",
    "    for seed in range(10):\n",
    "        sim_name = long_names[ai]\n",
    "        try: \n",
    "            pv_c, sst_c = get_slope_change(sim_name, seed)\n",
    "        except FileNotFoundError:\n",
    "            continue\n",
    "        pv_changes.append(pv_c)\n",
    "        sst_changes.append(sst_c)\n",
    "        print('seed', seed, pv_c, sst_c)\n",
    "    print(ai, len(pv_changes), len(sst_changes))\n",
    "        \n",
    "    pv_long.append(np.mean(pv_changes))\n",
    "    sst_long.append(np.mean(sst_changes))\n",
    "    pv_long_errs.append(scipy.stats.sem(pv_changes))\n",
    "    sst_long_errs.append(scipy.stats.sem(sst_changes))"
   ]
  },
  {
   "cell_type": "code",
   "execution_count": 16,
   "id": "bc7f482a",
   "metadata": {},
   "outputs": [
    {
     "data": {
      "text/plain": [
       "9"
      ]
     },
     "execution_count": 16,
     "metadata": {},
     "output_type": "execute_result"
    }
   ],
   "source": [
    "len(sst_long)"
   ]
  },
  {
   "cell_type": "code",
   "execution_count": 17,
   "id": "aecf35d0",
   "metadata": {
    "scrolled": true
   },
   "outputs": [
    {
     "data": {
      "text/plain": [
       "<matplotlib.collections.PathCollection at 0x2aaaefe50a30>"
      ]
     },
     "execution_count": 17,
     "metadata": {},
     "output_type": "execute_result"
    },
    {
     "data": {
      "image/png": "[encoded data removed]",
      "text/plain": [
       "<Figure size 432x288 with 1 Axes>"
      ]
     },
     "metadata": {
      "needs_background": "light"
     },
     "output_type": "display_data"
    }
   ],
   "source": [
    "plt.scatter([0.0025*i for i in range(9)], sst_long)"
   ]
  },
  {
   "cell_type": "code",
   "execution_count": 18,
   "id": "c655ed57",
   "metadata": {},
   "outputs": [
    {
     "data": {
      "text/plain": [
       "<matplotlib.collections.PathCollection at 0x2aaaeff449d0>"
      ]
     },
     "execution_count": 18,
     "metadata": {},
     "output_type": "execute_result"
    },
    {
     "data": {
      "image/png": "[encoded data removed]",
      "text/plain": [
       "<Figure size 432x288 with 1 Axes>"
      ]
     },
     "metadata": {
      "needs_background": "light"
     },
     "output_type": "display_data"
    }
   ],
   "source": [
    "plt.scatter([0.0025*i for i in range(9)], pv_long)"
   ]
  },
  {
   "cell_type": "code",
   "execution_count": 26,
   "id": "29acff6c",
   "metadata": {},
   "outputs": [
    {
     "data": {
      "text/plain": [
       "['base3t',\n",
       " 'vnl_0.0025',\n",
       " 'vnl_0.005',\n",
       " 'vnl_0.0075',\n",
       " 'vnl_0.01',\n",
       " 'vnl_0.0125',\n",
       " 'vnl_0.015',\n",
       " 'vnl_0.0175',\n",
       " 'nl3t']"
      ]
     },
     "execution_count": 26,
     "metadata": {},
     "output_type": "execute_result"
    }
   ],
   "source": [
    "long_names"
   ]
  },
  {
   "cell_type": "code",
   "execution_count": 7,
   "id": "ef2752a5",
   "metadata": {
    "scrolled": true
   },
   "outputs": [
    {
     "name": "stdout",
     "output_type": "stream",
     "text": [
      "seed 1 0.007086261363605607 0.04875971878339672\n",
      "seed 2 0.029100993217605956 -0.05333928024198103\n",
      "seed 3 0.04722562729049161 -0.018515183481494935\n",
      "seed 4 -0.07010553290192167 0.06723492402982631\n",
      "seed 5 0.08724081266769153 -0.025508250940970357\n",
      "seed 6 0.000229871804465608 -0.06510789749242707\n",
      "seed 7 0.15607540223209831 0.10106574940602298\n",
      "seed 8 0.21067162629154965 0.13764614046005258\n",
      "seed 9 0.07714142485739077 -0.018507947723239757\n",
      "0 9 9\n",
      "seed 1 0.07706100672162906 0.016661055105195655\n",
      "seed 2 0.07277665158653589 -0.028626578645473057\n",
      "seed 3 0.07021732328567415 -0.025696763991865497\n",
      "seed 4 -0.01760790649022926 -0.028882717012912243\n",
      "seed 5 -0.003497776770714496 0.05753560540174651\n",
      "seed 6 0.04463713050930781 -0.05236654516201767\n",
      "seed 7 0.20736458348154888 0.07370087807906182\n",
      "seed 8 0.2336868795060058 0.12901564005798094\n",
      "seed 9 -0.0019932326257252617 -0.03363592494612335\n",
      "1 9 9\n",
      "seed 1 0.09618103333620137 0.07184131293632673\n",
      "seed 2 0.039556100023863436 -0.03635456217324594\n",
      "seed 3 0.09494140011720419 -0.020139942119183914\n",
      "seed 4 0.06666535116393282 0.04953509843825207\n",
      "seed 5 0.0224908145707476 0.05864426921167429\n",
      "seed 6 0.015367068447944845 -0.012385000344777401\n",
      "seed 7 0.15278109344733384 0.02077061989221268\n",
      "seed 8 0.22833323436924854 0.14563725949723416\n",
      "seed 9 0.03009368904208743 -0.020656916082950994\n",
      "2 9 9\n",
      "seed 1 0.06338512535291121 0.029872521421662496\n",
      "seed 2 0.06583090783722316 -0.025592618044228146\n",
      "seed 3 0.07733386645413716 -0.02874569228155857\n",
      "seed 4 -0.0954511443374697 0.02320600256450257\n",
      "seed 5 0.000846696774258875 0.0651984594316671\n",
      "seed 6 0.062022542499444604 -0.07150752413521264\n",
      "seed 7 0.1957712735404712 0.06088418973852448\n",
      "seed 8 0.2411038054069709 0.22433200602688622\n",
      "seed 9 0.06843181966641174 -0.03117671945445058\n",
      "3 9 9\n",
      "seed 1 0.06080548671952302 -0.02730330961226114\n",
      "seed 2 0.12375839518118086 -0.000520391957116891\n",
      "seed 3 0.11066173270230367 0.01537893284069709\n",
      "seed 4 0.04488889335356188 0.05341503323962467\n",
      "seed 5 0.07834862077143578 0.0825452698556608\n",
      "seed 6 0.03371971467988666 -0.033717168335266966\n",
      "seed 7 0.12079817538798726 -0.00631309563042741\n",
      "seed 8 0.26582852153952424 0.16050545098106941\n",
      "seed 9 0.054002388903019956 -0.01674271516290511\n",
      "4 9 9\n",
      "seed 1 0.16087506812424987 0.06476698004143382\n",
      "seed 2 0.033358131184616106 -0.02141101256253459\n",
      "seed 3 0.11322214634712766 0.024550933669760917\n",
      "seed 4 0.025421292339365974 0.1883145516702289\n",
      "seed 5 0.08279528018777817 0.09891525475471173\n",
      "seed 6 0.09651454468169712 -0.03121391037433681\n",
      "seed 7 0.15068999419536966 0.06349461935087607\n",
      "seed 8 0.21410539798143766 0.21322608613400745\n",
      "seed 9 0.037088320094237105 -0.18022037491511328\n",
      "5 9 9\n",
      "seed 1 0.08551021563988538 -0.017599571926863806\n",
      "seed 2 0.04331947575811684 0.009695106953106526\n",
      "seed 3 0.10290287432906473 -0.0015462012349005704\n",
      "seed 4 0.06771606454470687 0.018159453511687053\n",
      "seed 5 0.026992601523503874 0.01410049332060561\n",
      "seed 6 0.06350829003875669 0.02377428263322349\n",
      "seed 7 0.18847469482518525 0.07838568985669667\n",
      "seed 8 0.2615514733124004 0.19114471787825354\n",
      "seed 9 0.10450711493903543 -0.015551261539991904\n",
      "6 9 9\n",
      "seed 1 0.13081712974410906 -0.009640032554644478\n",
      "seed 2 0.08449599360094658 -0.0121216762461794\n",
      "seed 3 0.10384097657585027 -0.0045629065704708115\n",
      "seed 4 0.06383055596110988 -0.007994401488614192\n",
      "seed 5 0.016627191918252147 0.11571891429789422\n",
      "seed 6 0.05568318572747493 -0.01290839464409719\n",
      "seed 7 0.14162884876252804 0.05793713889894779\n",
      "seed 8 0.31868146684634907 0.22107516454550888\n",
      "seed 9 -0.015554518036061908 0.035717112574219986\n",
      "7 9 9\n",
      "seed 1 0.07298167369355321 0.03642831406995593\n",
      "seed 2 0.06566670945068126 0.015462637175499427\n",
      "seed 3 0.12053935318840175 -0.06312907569340905\n",
      "seed 4 0.022330255887616536 0.026584678167595917\n",
      "seed 5 0.05966868318723391 0.061308941523507375\n",
      "seed 6 0.028447315264594653 -0.005312584323003364\n",
      "seed 7 0.14707993525213256 0.08066132430367055\n",
      "seed 8 0.24560137004376356 0.2074696290555296\n",
      "seed 9 0.06821501081453009 0.008143978659186965\n",
      "8 9 9\n"
     ]
    }
   ],
   "source": [
    "pv_short = []\n",
    "sst_short = []\n",
    "\n",
    "pv_short_errs = []\n",
    "sst_short_errs = []\n",
    "for ai in range(len(short_names)):\n",
    "    pv_changes, sst_changes = [], []\n",
    "    for seed in range(10):\n",
    "        sim_name = short_names[ai]\n",
    "        try: \n",
    "            pv_c, sst_c = get_slope_change(sim_name, seed)\n",
    "        except FileNotFoundError:\n",
    "            continue\n",
    "        pv_changes.append(pv_c)\n",
    "        sst_changes.append(sst_c)\n",
    "        print('seed', seed, pv_c, sst_c)\n",
    "    print(ai, len(pv_changes), len(sst_changes))\n",
    "        \n",
    "        \n",
    "    pv_short.append(np.mean(pv_changes))\n",
    "    sst_short.append(np.mean(sst_changes))\n",
    "    pv_short_errs.append(scipy.stats.sem(pv_changes))\n",
    "    sst_short_errs.append(scipy.stats.sem(sst_changes))"
   ]
  },
  {
   "cell_type": "code",
   "execution_count": 41,
   "id": "5f4f2372",
   "metadata": {
    "scrolled": false
   },
   "outputs": [
    {
     "data": {
      "text/plain": [
       "Text(0.5, 0, '$α$ (nS$^{-1}$)')"
      ]
     },
     "execution_count": 41,
     "metadata": {},
     "output_type": "execute_result"
    },
    {
     "data": {
      "image/png": "[encoded data removed]",
      "text/plain": [
       "<Figure size 432x288 with 1 Axes>"
      ]
     },
     "metadata": {
      "needs_background": "light"
     },
     "output_type": "display_data"
    }
   ],
   "source": [
    "fig, ax = plt.subplots()\n",
    "xvals = [0.0025*i for i in range(1,9)]\n",
    "ax.errorbar(xvals, sst_long[1:], yerr = sst_long_errs[1:], fmt = 'o', ecolor = sstcolor, capsize = 5, markeredgecolor = sstcolor, markersize = 10, markerfacecolor='white')\n",
    "\n",
    "xvals = [0.0001]+[0.0025*i for i in range(1,9)]\n",
    "ax.errorbar(xvals, sst_short, yerr = sst_short_errs, fmt = 'o', ecolor = 'orangered', capsize = 5, markeredgecolor = 'orangered', markersize = 10, markerfacecolor='white')\n",
    "\n",
    "ax.set_xlabel('$α$ (nS$^{-1}$)')\n",
    "ax.set_yaabel"
   ]
  },
  {
   "cell_type": "code",
   "execution_count": 34,
   "id": "a3c605db",
   "metadata": {},
   "outputs": [
    {
     "data": {
      "text/plain": [
       "66.66666666666667"
      ]
     },
     "execution_count": 34,
     "metadata": {},
     "output_type": "execute_result"
    }
   ],
   "source": [
    "1/0.015"
   ]
  }
 ],
 "metadata": {
  "kernelspec": {
   "display_name": "Python [conda env:root] *",
   "language": "python",
   "name": "conda-root-py"
  },
  "language_info": {
   "codemirror_mode": {
    "name": "ipython",
    "version": 3
   },
   "file_extension": ".py",
   "mimetype": "text/x-python",
   "name": "python",
   "nbconvert_exporter": "python",
   "pygments_lexer": "ipython3",
   "version": "3.9.12"
  }
 },
 "nbformat": 4,
 "nbformat_minor": 5
}
