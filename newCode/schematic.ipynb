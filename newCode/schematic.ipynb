{
 "cells": [
  {
   "cell_type": "code",
   "execution_count": null,
   "id": "6edda6db",
   "metadata": {},
   "outputs": [],
   "source": [
    "import pickle\n",
    "import matplotlib.pyplot as plt"
   ]
  },
  {
   "cell_type": "code",
   "execution_count": null,
   "id": "a282c762",
   "metadata": {},
   "outputs": [],
   "source": [
    "with open('data/base3g/results_1/SOM_0.18_positions.pickle','rb') as f:\n",
    "    pos = pickle.load(f)"
   ]
  },
  {
   "cell_type": "code",
   "execution_count": null,
   "id": "31a059da",
   "metadata": {},
   "outputs": [],
   "source": [
    "epos = pos[:8000]\n",
    "ppos = pos[8000:9000]\n",
    "spos = pos[9000:]\n",
    "\n",
    "# fig, ax = plt.subplots(figsize=(12,12))\n",
    "\n",
    "\n",
    "fig = plt.figure(figsize = (12,12))\n",
    "ax = plt.axes(projection='3d')\n",
    "\n",
    "enum = 2000\n",
    "inum = 250\n",
    "ax.scatter(epos[:enum,0], epos[:enum,1], np.zeros(enum), color='black', s= 2, marker='^')\n",
    "ax.scatter(ppos[:inum,0], ppos[:inum,1], np.zeros(inum),color='blue', s= 4)\n",
    "ax.scatter(spos[:inum,0], spos[:inum,1], np.zeros(inum),color='orange', s= 4)\n",
    "ax.set_axis_off()\n",
    "ax.view_init(elev=30, azim=45)\n",
    "plt.savefig('ex.svg')"
   ]
  },
  {
   "cell_type": "code",
   "execution_count": null,
   "id": "c7171be5",
   "metadata": {},
   "outputs": [],
   "source": [
    "epos = pos[:8000]\n",
    "ppos = pos[8000:9000]\n",
    "spos = pos[9000:]\n",
    "\n",
    "ss = 2\n",
    "# fig, ax = plt.subplots(figsize=(12,12))\n",
    "\n",
    "\n",
    "fig = plt.figure(figsize = (12,12))\n",
    "ax = plt.axes(projection='3d')\n",
    "\n",
    "ax.scatter(epos[:1000,0], epos[:1000,1], np.zeros(1000), color='black', s= 3)\n",
    "ax.set_axis_off()\n",
    "ax.view_init(elev=-15, azim=45)\n",
    "plt.savefig('ex.svg')"
   ]
  }
 ],
 "metadata": {
  "kernelspec": {
   "display_name": "Python [conda env:root] *",
   "language": "python",
   "name": "conda-root-py"
  },
  "language_info": {
   "codemirror_mode": {
    "name": "ipython",
    "version": 3
   },
   "file_extension": ".py",
   "mimetype": "text/x-python",
   "name": "python",
   "nbconvert_exporter": "python",
   "pygments_lexer": "ipython3",
   "version": "3.9.12"
  }
 },
 "nbformat": 4,
 "nbformat_minor": 5
}
