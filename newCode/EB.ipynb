{
 "cells": [
  {
   "cell_type": "code",
   "execution_count": 1,
   "id": "266af1dc",
   "metadata": {},
   "outputs": [],
   "source": [
    "import matplotlib.pyplot as plt\n",
    "import pickle\n",
    "import numpy as np\n",
    "import matplotlib.patches as mpatches\n",
    "\n",
    "import sys\n",
    "# caution: path[0] is reserved for script path (or '' in REPL)\n",
    "sys.path.insert(1, 'code')\n",
    "from help_funcs import *"
   ]
  },
  {
   "cell_type": "code",
   "execution_count": 2,
   "id": "ed23debe",
   "metadata": {},
   "outputs": [],
   "source": [
    "import matplotlib\n",
    "\n",
    "matplotlib.rcParams.update({'font.size': 18})"
   ]
  },
  {
   "cell_type": "code",
   "execution_count": 43,
   "id": "cff3b3c8",
   "metadata": {},
   "outputs": [],
   "source": [
    "import scipy.stats\n",
    "def getStimRateMeans(exc_spikes, exc_positions, rates=False, nsecs = 5, binlen = 40):\n",
    "    # store the control times and the chr2 stimulation times\n",
    "    control_times = []\n",
    "    chr_times = []\n",
    "    ii = 0\n",
    "    is_control = True\n",
    "    while True:\n",
    "        start_time = ii * 500 + 1000\n",
    "        stop_time = start_time + binlen\n",
    "        if stop_time > nsecs*1000: break\n",
    "        if is_control:\n",
    "            control_times.append(start_time)\n",
    "        else:\n",
    "            chr_times.append(start_time)   \n",
    "        ii += 1\n",
    "        if is_control:\n",
    "            is_control = False\n",
    "        else:\n",
    "            is_control = True        \n",
    "        \n",
    "    assert len(control_times) == len(chr_times)\n",
    "#     print(\"NTIMES:\", control_times, chr_times)\n",
    "    # compute the rates of the cells distal to the chr2 stimulus\n",
    "    control_spikes = []\n",
    "    chr_spikes = []\n",
    "    for ni in range(len(exc_positions)):\n",
    "\n",
    "        nspikes = 0\n",
    "        for tim in control_times:\n",
    "            aa = exc_spikes[ni] [exc_spikes[ni] > tim ]\n",
    "            aa = aa [aa < tim+binlen]\n",
    "            nspikes += len(aa)\n",
    "        control_spikes.append(nspikes)\n",
    "\n",
    "        nspikes = 0\n",
    "        for tim in chr_times:\n",
    "            aa = exc_spikes[ni] [exc_spikes[ni] > tim ]\n",
    "            aa = aa [aa < tim+binlen]\n",
    "            nspikes += len(aa)\n",
    "        chr_spikes.append(nspikes)\n",
    "    control_rates = np.divide(control_spikes,(binlen/1000)*len(control_times)) # convert from spike count to rate\n",
    "    chr_rates = np.divide(chr_spikes,(binlen/1000)*len(chr_times))\n",
    "    ctrl_mean = np.mean(control_rates)\n",
    "    chr2_mean = np.mean(chr_rates)\n",
    "    \n",
    "    ctrl_err = np.std(control_rates)\n",
    "    chr2_err = np.std(chr_rates)\n",
    "    \n",
    "    if rates:\n",
    "        return [ctrl_mean, chr2_mean, ctrl_err, chr2_err, control_rates, chr_rates]\n",
    "    else:\n",
    "        return [ctrl_mean, chr2_mean, ctrl_err, chr2_err]\n",
    "    \n",
    "def getStimRateMeansCtrl(exc_spikes, exc_positions, rates=False, nsecs = 5, binlen = 40):\n",
    "    # store the control times and the chr2 stimulation times\n",
    "    control_times = []\n",
    "    chr_times = []\n",
    "    ii = 0\n",
    "    is_control = True\n",
    "    while True:\n",
    "        start_time = ii * 500 + 1000\n",
    "        stop_time = start_time + binlen\n",
    "        if stop_time > nsecs*1000: break\n",
    "        if is_control:\n",
    "            control_times.append(start_time)\n",
    "        else:\n",
    "            chr_times.append(start_time)   \n",
    "        ii += 1\n",
    "        if is_control:\n",
    "            is_control = False\n",
    "        else:\n",
    "            is_control = True        \n",
    "        \n",
    "    assert len(control_times) == len(chr_times)\n",
    "#     print(\"NTIMES:\", control_times, chr_times)\n",
    "    # compute the rates of the cells distal to the chr2 stimulus\n",
    "    control_spikes = []\n",
    "    chr_spikes = []\n",
    "    for ni in range(len(exc_positions)):\n",
    "\n",
    "        nspikes = 0\n",
    "        for tim in control_times:\n",
    "            aa = exc_spikes[ni] [exc_spikes[ni] > tim ]\n",
    "            aa = aa [aa < tim+binlen]\n",
    "            nspikes += len(aa)\n",
    "        control_spikes.append(nspikes)\n",
    "\n",
    "        nspikes = 0\n",
    "        for tim in chr_times:\n",
    "            aa = exc_spikes[ni] [exc_spikes[ni] > tim ]\n",
    "            aa = aa [aa < tim+binlen]\n",
    "            nspikes += len(aa)\n",
    "        chr_spikes.append(nspikes)\n",
    "    control_rates = np.divide(control_spikes,(binlen/1000)*len(control_times)) # convert from spike count to rate\n",
    "    chr_rates = np.divide(chr_spikes,(binlen/1000)*len(chr_times))\n",
    "    \n",
    "    control_rates = np.concatenate( [control_rates, chr_rates])\n",
    "    \n",
    "    ctrl_mean = np.mean(control_rates)\n",
    "    \n",
    "    ctrl_err = np.std(control_rates)\n",
    "\n",
    "    return [ctrl_mean, ctrl_err]\n",
    "    \n",
    "\n",
    "def getSpontMedians(all_spikes, start_time = 1000., stop_time = 10000.):\n",
    "    \n",
    "    exc_spikes = all_spikes[:8000]\n",
    "    pv_spikes = all_spikes[8000:9000]\n",
    "    sst_spikes = all_spikes[9000:]\n",
    "    \n",
    "    tlen = (stop_time - start_time)/1000.\n",
    "    \n",
    "    exc_nspikes = []\n",
    "    for spikes in exc_spikes:\n",
    "        aa = spikes[spikes > start_time ]\n",
    "        aa = aa [aa < stop_time]\n",
    "        exc_nspikes.append(len(aa)/tlen)\n",
    "        \n",
    "    pv_nspikes = []\n",
    "    for spikes in pv_spikes:\n",
    "        aa = spikes[spikes > start_time ]\n",
    "        aa = aa [aa < stop_time]\n",
    "        pv_nspikes.append(len(aa)/tlen)\n",
    "        \n",
    "    sst_nspikes = []\n",
    "    for spikes in sst_spikes:\n",
    "        aa = spikes[spikes > start_time ]\n",
    "        aa = aa [aa < stop_time]\n",
    "        sst_nspikes.append(len(aa)/tlen)\n",
    "        \n",
    "    return np.median(exc_nspikes), np.median(pv_nspikes), np.median(sst_nspikes)"
   ]
  },
  {
   "cell_type": "code",
   "execution_count": 77,
   "id": "eacc2af1",
   "metadata": {
    "scrolled": true
   },
   "outputs": [
    {
     "name": "stdout",
     "output_type": "stream",
     "text": [
      "1.7857142857142858 0.13736263736263737\n",
      "2.2270114942528734 0.14367816091954022\n",
      "2.7298850574712645 0.7902298850574713\n",
      "2.9965753424657535 1.5410958904109588\n",
      "4.367469879518072 1.430722891566265\n",
      "4.56989247311828 1.814516129032258\n",
      "4.119318181818182 1.3494318181818181\n",
      "4.430379746835443 0.7911392405063291\n",
      "1.7241379310344827 0.43103448275862066\n",
      "1.6176470588235294 0.8088235294117647\n",
      "1.1363636363636365 0.2435064935064935\n",
      "2.3734177215189876 0.9493670886075949\n",
      "2.60989010989011 1.098901098901099\n",
      "6.793478260869565 5.615942028985507\n",
      "9.375 6.578947368421052\n",
      "9.210526315789474 5.838815789473684\n",
      "8.984375 3.984375\n",
      "4.75 1.3333333333333333\n",
      "2.483974358974359 0.8814102564102564\n",
      "2.113970588235294 0.6433823529411765\n",
      "2.6785714285714284 0.9821428571428571\n",
      "5.597014925373134 0.9328358208955224\n",
      "12.725903614457831 7.906626506024097\n",
      "29.25257731958763 22.938144329896907\n",
      "25.071022727272727 21.09375\n",
      "24.833333333333332 20.083333333333332\n",
      "25.694444444444443 18.98148148148148\n",
      "12.07865168539326 7.584269662921348\n",
      "4.775280898876405 1.1938202247191012\n",
      "3.3227848101265822 0.6329113924050633\n",
      "4.537671232876712 1.4554794520547945\n",
      "8.556547619047619 5.059523809523809\n",
      "18.489583333333332 14.67013888888889\n",
      "71.09375 60.59027777777778\n",
      "72.17261904761905 63.76488095238095\n",
      "41.13175675675676 39.695945945945944\n",
      "42.605633802816904 33.098591549295776\n",
      "24.053030303030305 19.065656565656564\n",
      "8.967391304347826 4.415760869565218\n",
      "3.885135135135135 1.2668918918918919\n",
      "3.260869565217391 1.4266304347826086\n",
      "9.931506849315069 5.6506849315068495\n",
      "29.166666666666668 24.869791666666668\n",
      "52.35294117647059 44.411764705882355\n",
      "97.5 90.16666666666667\n",
      "76.42405063291139 64.31962025316456\n",
      "51.98529411764706 42.35294117647059\n",
      "34.41358024691358 26.69753086419753\n",
      "11.799065420560748 6.542056074766355\n",
      "6.25 0.7440476190476191\n",
      "5.083333333333333 1.4166666666666667\n",
      "13.10763888888889 6.510416666666667\n",
      "17.003676470588236 12.5\n",
      "46.69117647058823 40.88235294117647\n",
      "78.91666666666667 68.08333333333333\n",
      "91.23563218390805 80.02873563218391\n",
      "55.36684782608695 44.15760869565217\n",
      "22.82608695652174 13.994565217391305\n",
      "8.220108695652174 5.842391304347826\n",
      "5.815972222222222 1.9965277777777777\n",
      "4.109589041095891 1.4554794520547945\n",
      "9.461805555555555 2.7777777777777777\n",
      "24.63235294117647 18.38235294117647\n",
      "36.77884615384615 33.092948717948715\n",
      "57.8125 45.78125\n",
      "54.395604395604394 46.84065934065934\n",
      "27.272727272727273 21.96969696969697\n",
      "20.17663043478261 13.179347826086957\n",
      "8.653846153846153 6.181318681318682\n",
      "4.887820512820513 1.8429487179487178\n",
      "1.8072289156626506 1.2801204819277108\n",
      "6.927710843373494 1.7319277108433735\n",
      "11.155063291139241 5.2215189873417724\n",
      "15.84051724137931 11.961206896551724\n",
      "24.62686567164179 16.97761194029851\n",
      "28.61842105263158 22.36842105263158\n",
      "13.628472222222221 10.850694444444445\n",
      "9.161931818181818 6.676136363636363\n",
      "4.194078947368421 1.8092105263157894\n",
      "3.8517441860465116 1.2354651162790697\n",
      "2.142857142857143 0.5357142857142857\n",
      "3.800675675675676 0.8445945945945946\n",
      "5.790441176470588 1.9301470588235294\n",
      "10.680379746835444 4.430379746835443\n",
      "13.936781609195402 8.189655172413794\n",
      "10.899390243902438 6.859756097560975\n",
      "9.679878048780488 8.460365853658537\n",
      "5.658783783783784 2.7871621621621623\n",
      "2.5833333333333335 0.6666666666666666\n",
      "1.8125 0.375\n",
      "0.7352941176470589 0.36764705882352944\n",
      "1.7857142857142858 0.5681818181818182\n",
      "2.462121212121212 0.7575757575757576\n",
      "4.438405797101449 0.9057971014492754\n",
      "4.64527027027027 2.449324324324324\n",
      "5.457746478873239 2.816901408450704\n",
      "3.4455128205128207 0.8814102564102564\n",
      "2.5 1.0\n",
      "2.3972602739726026 0.2568493150684932\n",
      "0.7621951219512195 0.22865853658536586\n"
     ]
    }
   ],
   "source": [
    "folder = 'eb4h/results_3'\n",
    "cond = 'Spont'\n",
    "with open(f'data/{folder}/{cond}_spikes.pickle','rb') as f:\n",
    "    all_spikes = pickle.load(f)\n",
    "    \n",
    "with open(f'data/{folder}/{cond}_positions.pickle','rb') as f:\n",
    "    all_positions = pickle.load(f)\n",
    "    \n",
    "control_means = []\n",
    "control_stds = []\n",
    "for xi in range(10):\n",
    "    for yi in range(10):\n",
    "        xpos = 0.1*xi\n",
    "        ypos = 0.1*yi\n",
    "\n",
    "        ids = []\n",
    "\n",
    "        for ni in range(8000):\n",
    "            if xpos <= all_positions[ni,0] < xpos + 0.1 and  ypos <= all_positions[ni,1] < ypos + 0.1:\n",
    "                ids.append(ni)\n",
    "\n",
    "        selected_spikes = [all_spikes[ni] for ni in ids]\n",
    "        selected_positions = all_positions[ids]\n",
    "\n",
    "        ctrlrate, ctrlerr = getStimRateMeansCtrl(selected_spikes, selected_positions)\n",
    "        \n",
    "        control_means.append(ctrlrate)\n",
    "        control_stds.append(ctrlerr)\n",
    "        \n",
    "# folder = 'eb4h/results_2'\n",
    "cond = 'SOM_0.33'\n",
    "with open(f'data/{folder}/{cond}_spikes.pickle','rb') as f:\n",
    "    all_spikes = pickle.load(f)\n",
    "    \n",
    "with open(f'data/{folder}/{cond}_positions.pickle','rb') as f:\n",
    "    all_positions = pickle.load(f)\n",
    "    \n",
    "pv_ctrl = []\n",
    "pv_stim = []\n",
    "iii=0\n",
    "for xi in range(10):\n",
    "    for yi in range(10):\n",
    "        xpos = 0.1*xi\n",
    "        ypos = 0.1*yi\n",
    "\n",
    "        ids = []\n",
    "\n",
    "        for ni in range(8000):\n",
    "            if xpos <= all_positions[ni,0] < xpos + 0.1 and  ypos <= all_positions[ni,1] < ypos + 0.1:\n",
    "                ids.append(ni)\n",
    "\n",
    "        selected_spikes = [all_spikes[ni] for ni in ids]\n",
    "        selected_positions = all_positions[ids]\n",
    "\n",
    "        pv_crate, pv_srate, pv_cerr, pv_serr = getStimRateMeans(selected_spikes, selected_positions)\n",
    "        print(pv_crate, pv_srate)\n",
    "        pv_ctrl.append((pv_crate-control_means[iii])/control_stds[iii])\n",
    "        pv_stim.append((pv_srate-control_means[iii])/control_stds[iii])\n",
    "        iii+=1"
   ]
  },
  {
   "cell_type": "code",
   "execution_count": 78,
   "id": "ee4e7bf7",
   "metadata": {},
   "outputs": [],
   "source": [
    "results = scipy.stats.linregress(pv_ctrl, pv_stim)"
   ]
  },
  {
   "cell_type": "code",
   "execution_count": 79,
   "id": "d8d72395",
   "metadata": {},
   "outputs": [
    {
     "data": {
      "text/plain": [
       "0.8923194653488414"
      ]
     },
     "execution_count": 79,
     "metadata": {},
     "output_type": "execute_result"
    }
   ],
   "source": [
    "results.slope"
   ]
  },
  {
   "cell_type": "code",
   "execution_count": 76,
   "id": "a29578f1",
   "metadata": {
    "scrolled": false
   },
   "outputs": [
    {
     "data": {
      "text/plain": [
       "Text(0.5, 1.0, 'PV')"
      ]
     },
     "execution_count": 76,
     "metadata": {},
     "output_type": "execute_result"
    },
    {
     "data": {
      "image/png": "[encoded data removed]",
      "text/plain": [
       "<Figure size 432x432 with 1 Axes>"
      ]
     },
     "metadata": {
      "needs_background": "light"
     },
     "output_type": "display_data"
    }
   ],
   "source": [
    "fig, ax = plt.subplots(figsize = (6,6))\n",
    "ax.scatter(pv_ctrl, pv_stim)\n",
    "maxrate = np.max(pv_ctrl)\n",
    "ax.plot([0,maxrate], [0,maxrate], c='gray')\n",
    "\n",
    "ax.set_xlim(0)\n",
    "ax.set_ylim(0)\n",
    "plt.title('PV')"
   ]
  },
  {
   "cell_type": "code",
   "execution_count": 80,
   "id": "7eddda7a",
   "metadata": {
    "scrolled": false
   },
   "outputs": [
    {
     "data": {
      "text/plain": [
       "Text(0.5, 1.0, 'SST')"
      ]
     },
     "execution_count": 80,
     "metadata": {},
     "output_type": "execute_result"
    },
    {
     "data": {
      "image/png": "[encoded data removed]",
      "text/plain": [
       "<Figure size 432x432 with 1 Axes>"
      ]
     },
     "metadata": {
      "needs_background": "light"
     },
     "output_type": "display_data"
    }
   ],
   "source": [
    "fig, ax = plt.subplots(figsize = (6,6))\n",
    "ax.scatter(pv_ctrl, pv_stim)\n",
    "maxrate = np.max(pv_ctrl)\n",
    "ax.plot([0,maxrate], [0,maxrate], c='gray')\n",
    "\n",
    "ax.set_xlim(0)\n",
    "ax.set_ylim(0)\n",
    "plt.title('SST')"
   ]
  },
  {
   "cell_type": "code",
   "execution_count": null,
   "id": "97dc517e",
   "metadata": {},
   "outputs": [],
   "source": []
  }
 ],
 "metadata": {
  "kernelspec": {
   "display_name": "Python [conda env:root] *",
   "language": "python",
   "name": "conda-root-py"
  },
  "language_info": {
   "codemirror_mode": {
    "name": "ipython",
    "version": 3
   },
   "file_extension": ".py",
   "mimetype": "text/x-python",
   "name": "python",
   "nbconvert_exporter": "python",
   "pygments_lexer": "ipython3",
   "version": "3.9.12"
  }
 },
 "nbformat": 4,
 "nbformat_minor": 5
}
